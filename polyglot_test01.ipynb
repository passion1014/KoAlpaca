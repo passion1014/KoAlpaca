{
  "nbformat": 4,
  "nbformat_minor": 0,
  "metadata": {
    "colab": {
      "provenance": [],
      "machine_shape": "hm",
      "gpuType": "V100",
      "mount_file_id": "12ypu7tyJ1tIq74fC550-mFszIJv9bxi3",
      "authorship_tag": "ABX9TyNDXAKfwGuqj/8xW7JL3Hm3",
      "include_colab_link": true
    },
    "kernelspec": {
      "name": "python3",
      "display_name": "Python 3"
    },
    "language_info": {
      "name": "python"
    },
    "accelerator": "GPU"
  },
  "cells": [
    {
      "cell_type": "markdown",
      "metadata": {
        "id": "view-in-github",
        "colab_type": "text"
      },
      "source": [
        "<a href=\"https://colab.research.google.com/github/passion1014/KoAlpaca/blob/first-branch/polyglot_test01.ipynb\" target=\"_parent\"><img src=\"https://colab.research.google.com/assets/colab-badge.svg\" alt=\"Open In Colab\"/></a>"
      ]
    },
    {
      "cell_type": "code",
      "execution_count": null,
      "metadata": {
        "id": "23TOba33L4qf"
      },
      "outputs": [],
      "source": [
        "gpu_info = !nvidia-smi\n",
        "gpu_info = '\\n'.join(gpu_info)\n",
        "if gpu_info.find('failed') >= 0:\n",
        "  print('Not connected to a GPU')\n",
        "else:\n",
        "  print(gpu_info)"
      ]
    },
    {
      "cell_type": "code",
      "source": [
        "# -*- coding: utf-8 -*-\n"
      ],
      "metadata": {
        "id": "a0xRcW1EQYJI"
      },
      "execution_count": null,
      "outputs": []
    },
    {
      "cell_type": "code",
      "source": [
        "!pip install transformers\n",
        "!pip install datasets"
      ],
      "metadata": {
        "id": "WZdyj0xsjL3J"
      },
      "execution_count": null,
      "outputs": []
    },
    {
      "cell_type": "code",
      "source": [
        "# ----------------------------------------------------------\n",
        "# import 선언\n",
        "# ----------------------------------------------------------\n",
        "import numpy as np\n",
        "import torch\n",
        "from transformers import AutoTokenizer, AutoModelForCausalLM\n",
        "#from transformers import AutoTokenizer, AutoModelForSequenceClassification\n"
      ],
      "metadata": {
        "id": "A5QfLEo111un"
      },
      "execution_count": null,
      "outputs": []
    },
    {
      "cell_type": "code",
      "source": [
        "# ----------------------------------------------------------\n",
        "# 변수 선언\n",
        "# ----------------------------------------------------------\n",
        "model_name = 'EleutherAI/polyglot-ko-1.3b'\n",
        "model_path = f'/content/drive/MyDrive/models/huggingface/{model_name}.pt'\n"
      ],
      "metadata": {
        "id": "kEdaOjtWL_NA"
      },
      "execution_count": null,
      "outputs": []
    },
    {
      "cell_type": "code",
      "source": [
        "# ----------------------------------------------------------\n",
        "# HuggingFace에서 모델을 가져와 구글 드라이브에 저장한다.\n",
        "# ----------------------------------------------------------\n",
        "\n",
        "from google.colab import drive\n",
        "\n",
        "# 11.9G 모델 사이즈\n",
        "tokenizer = AutoTokenizer.from_pretrained(model_name)\n",
        "model = AutoModelForCausalLM.from_pretrained(model_name).to( \"cuda\" )    \n",
        "\n",
        "# 모델 저장\n",
        "torch.save(model.state_dict(), \"/content/drive/MyDrive/models/huggingface/\"+model_name+\".pt\")\n",
        "\n",
        "# 구글 드라이브 마운트\n",
        "drive.mount('/content/drive')\n",
        "\n",
        "# 모델 파일을 구글 드라이브에 복사\n",
        "!cp {model_name + \".pt\"} \"/content/drive/MyDrive/models/huggingface/\""
      ],
      "metadata": {
        "id": "ke8KFTej2IFY"
      },
      "execution_count": null,
      "outputs": []
    },
    {
      "cell_type": "code",
      "source": [
        "# ----------------------------------------------------------\n",
        "# 구글에 있는 모델을 로딩한다\n",
        "# ----------------------------------------------------------\n",
        "import torch\n",
        "from transformers import AutoTokenizer, AutoModelForCausalLM, AutoConfig\n",
        "\n",
        "# Load the configuration from the model\n",
        "config = AutoConfig.from_pretrained(model_name)\n",
        "\n",
        "# Create the model without weights\n",
        "model = AutoModelForCausalLM.from_config(config)\n",
        "\n",
        "# Load the weights into the model\n",
        "state_dict = torch.load(model_path)\n",
        "model.load_state_dict(state_dict)\n",
        "\n",
        "# Move the model to the GPU\n",
        "model.to('cuda')\n"
      ],
      "metadata": {
        "id": "PhLOBipHwuH4"
      },
      "execution_count": null,
      "outputs": []
    },
    {
      "cell_type": "code",
      "source": [
        "\n",
        "# 테스트\n",
        "\n",
        "\n",
        "\n",
        "# input_text를 토큰 -> pytorch tensor로 변환\n",
        "input_text = \"How about today\"\n",
        "input_ids = tokenizer.encode(input_text, return_tensors=\"pt\").to('cuda') # \"pt\" -> pytorch tensor로 변환\n",
        "\n",
        "\n",
        "# 입력 텐서와 동일한 크기의 Attention mask 생성\n",
        "# (torch.ones_like() 함수는 모든 요소를 1로 채우는 텐서를 생성)\n",
        "attention_mask = torch.ones_like(input_ids).to('cuda')\n",
        "\n",
        "\n",
        "# 모델의 pad token id를 모델의 eos token id로 설정\n",
        "# (이렇게 하면 모델이 패딩 토큰을 인식하고 적절하게 처리할 수 있다)\n",
        "model.config.pad_token_id = model.config.eos_token_id\n",
        "\n",
        "\n",
        "# generate() 메서드를 사용하여 입력 텐서와 attention mask를 기반으로 모델에서 텍스트를 생성\n",
        "# max_length 인자는 생성할 최대 길이를 지정\n",
        "output = model.generate(input_ids, attention_mask=attention_mask, max_length=100)\n",
        "\n",
        "\n",
        "# 생성된 출력 텐서를 CPU 상에서 numpy array로 변환하고, 첫 번째 요소를 선택합니다.\n",
        "# 선택한 출력을 토크나이저를 사용하여 디코딩하여 생성된 텍스트를 얻습니다.\n",
        "# skip_special_tokens=True로 설정하여 특수 토큰을 제외한 텍스트만 얻습니다.\n",
        "generated_text = tokenizer.decode(np.array(output.cpu())[0], skip_special_tokens=True)\n",
        "\n",
        "\n",
        "# 생성된 텍스트를 출력합니다.\n",
        "print(generated_text)"
      ],
      "metadata": {
        "id": "L-ehlLbfpNHX"
      },
      "execution_count": null,
      "outputs": []
    },
    {
      "cell_type": "code",
      "source": [
        "from datasets import load_dataset\n",
        "\n",
        "ds = load_dataset(\"beomi/KoAlpaca-v1.1a\", split=\"train\")\n",
        "ds\n"
      ],
      "metadata": {
        "id": "JvbB6s5v9guX"
      },
      "execution_count": null,
      "outputs": []
    },
    {
      "cell_type": "code",
      "source": [
        "len(ds)"
      ],
      "metadata": {
        "id": "DdmpNuj--Gz0"
      },
      "execution_count": null,
      "outputs": []
    },
    {
      "cell_type": "markdown",
      "source": [
        "# 새 섹션"
      ],
      "metadata": {
        "id": "ijAkdA8cFDGz"
      }
    }
  ]
}